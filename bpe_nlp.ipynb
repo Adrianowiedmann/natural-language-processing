{
 "cells": [
  {
   "cell_type": "markdown",
   "id": "9af5e0c9-d6c2-4686-b7cc-0e801f879062",
   "metadata": {},
   "source": [
    "Importando algumas bibliotecas que serão úteis:"
   ]
  },
  {
   "cell_type": "code",
   "execution_count": 4,
   "id": "f8a48eb7-b054-4f30-ba5c-d763cf4e8d1a",
   "metadata": {},
   "outputs": [],
   "source": [
    "import os\n",
    "import json\n",
    "import sys"
   ]
  },
  {
   "cell_type": "markdown",
   "id": "1f60e66f-0fd3-4a15-ab2f-bd0ae402b847",
   "metadata": {},
   "source": [
    "Configurar o caminho dos arquivos:"
   ]
  },
  {
   "cell_type": "code",
   "execution_count": 5,
   "id": "7ac9d882-a448-4b65-83d4-0ea795bb1b7f",
   "metadata": {},
   "outputs": [],
   "source": [
    "corpus_dir = './corpus'\n",
    "bpe_file = './exercise1/bpe.py'"
   ]
  },
  {
   "cell_type": "code",
   "execution_count": 6,
   "id": "be30b5f2-aa14-4dd8-b40e-7893201d689b",
   "metadata": {},
   "outputs": [],
   "source": [
    "sys.path.append('./exercise1')"
   ]
  },
  {
   "cell_type": "markdown",
   "id": "4d96b649-f590-41f8-ba81-caee21494883",
   "metadata": {},
   "source": [
    "Importar as funções do Tokenizer do arquivo bpe.py:"
   ]
  },
  {
   "cell_type": "code",
   "execution_count": 7,
   "id": "97b3005c-3d70-4892-816c-a1c5c3a19f34",
   "metadata": {},
   "outputs": [],
   "source": [
    "from bpe import Tokenizer"
   ]
  },
  {
   "cell_type": "code",
   "execution_count": 8,
   "id": "700bc1a6-3d94-4faa-be54-2ec97cb1965c",
   "metadata": {},
   "outputs": [],
   "source": [
    "tokenizer = Tokenizer()"
   ]
  },
  {
   "cell_type": "markdown",
   "id": "4c6bf4a4-c856-4e5e-9309-cd9a48679cda",
   "metadata": {},
   "source": [
    "A próxima célula carrega o conjunto de dados em formato .json. Note que todos os textos foram combinados, sem separação entre um e outro. Por exemplo, se tivermos o texto1 = \"Onde há um desejo, há um caminho\" e o texto2 = \"Matemática pura é, à sua maneira, a poesia de ideias lógicas\", ao juntar os textos, resultaria em: \"Onde há um desejo, há um caminhoMatemática pura é, à sua maneira, a poesia de ideias lógicas\"."
   ]
  },
  {
   "cell_type": "code",
   "execution_count": 9,
   "id": "1ffdffd2-be52-4aae-aa64-b0454682a07d",
   "metadata": {},
   "outputs": [],
   "source": [
    "def load_corpus(corpus_dir):\n",
    "    corpus_data = \"\"\n",
    "    for filename in os.listdir(corpus_dir):\n",
    "        if filename.endswith('.json'):\n",
    "            with open(os.path.join(corpus_dir, filename), 'r', encoding='utf-8') as f:\n",
    "                data = json.load(f)\n",
    "                corpus_data += data[\"text\"]\n",
    "    return corpus_data"
   ]
  },
  {
   "cell_type": "markdown",
   "id": "3db52a23-fa95-4568-ae0f-ef02da941f6e",
   "metadata": {},
   "source": [
    "A próxima célula chama a função load_corpus para carregar o conjunto de dados .json"
   ]
  },
  {
   "cell_type": "code",
   "execution_count": 10,
   "id": "39900796-68d8-4ed2-b362-2949ef515f50",
   "metadata": {},
   "outputs": [],
   "source": [
    "dataset = load_corpus(corpus_dir)"
   ]
  },
  {
   "cell_type": "code",
   "execution_count": 11,
   "id": "81ba1a19-16da-4a0f-a248-9b5705c52e8a",
   "metadata": {},
   "outputs": [],
   "source": [
    "tokenizer.train(dataset, 400)"
   ]
  },
  {
   "cell_type": "markdown",
   "id": "550db9d3-e1a9-48dd-acc9-3df87cbf7c6c",
   "metadata": {},
   "source": [
    "Todos os merges:"
   ]
  },
  {
   "cell_type": "code",
   "execution_count": 12,
   "id": "efb8c5bb-79c1-4845-b011-1640148885b2",
   "metadata": {},
   "outputs": [
    {
     "name": "stdout",
     "output_type": "stream",
     "text": [
      "{(111, 32): 256, (97, 32): 257, (101, 32): 258, (115, 32): 259, (44, 32): 260, (100, 258): 261, (101, 110): 262, (109, 32): 263, (111, 114): 264, (101, 114): 265, (97, 110): 266, (97, 114): 267, (101, 115): 268, (99, 111): 269, (46, 32): 270, (100, 256): 271, (111, 259): 272, (105, 110): 273, (97, 108): 274, (97, 259): 275, (195, 163): 276, (97, 100): 277, (262, 116): 278, (276, 256): 279, (195, 167): 280, (114, 105): 281, (99, 105): 282, (114, 101): 283, (113, 117): 284, (115, 116): 285, (97, 116): 286, (195, 169): 287, (111, 110): 288, (101, 108): 289, (101, 259): 290, (100, 257): 291, (105, 99): 292, (101, 263): 293, (97, 115): 294, (105, 116): 295, (97, 109): 296, (195, 173): 297, (114, 111): 298, (195, 161): 299, (117, 32): 300, (124, 32): 301, (61, 61): 302, (100, 105): 303, (97, 105): 304, (101, 105): 305, (97, 280): 306, (105, 100): 307, (284, 258): 308, (111, 115): 309, (101, 109): 310, (105, 108): 311, (117, 110): 312, (268, 116): 313, (117, 108): 314, (269, 110): 315, (49, 57): 316, (112, 267): 317, (264, 32): 318, (117, 109): 319, (97, 260): 320, (111, 108): 321, (274, 32): 322, (256, 261): 323, (266, 116): 324, (111, 260): 325, (117, 114): 326, (42, 32): 327, (124, 301): 328, (195, 179): 329, (269, 109): 330, (257, 261): 331, (105, 109): 332, (101, 116): 333, (50, 48): 334, (117, 116): 335, (105, 285): 336, (101, 103): 337, (97, 271): 338, (306, 279): 339, (112, 111): 340, (115, 258): 341, (117, 263): 342, (267, 32): 343, (114, 97): 344, (105, 118): 345, (287, 32): 346, (111, 109): 347, (105, 257): 348, (269, 263): 349, (111, 300): 350, (105, 115): 351, (97, 263): 352, (305, 114): 353, (105, 32): 354, (319, 257): 355, (265, 32): 356, (304, 259): 357, (278, 258): 358, (115, 117): 359, (110, 256): 360, (61, 32): 361, (97, 112): 362, (32, 328): 363, (100, 101): 364, (195, 170): 365, (317, 257): 366, (105, 103): 367, (114, 268): 368, (101, 120): 369, (264, 116): 370, (195, 181): 371, (110, 257): 372, (41, 32): 373, (115, 101): 374, (302, 32): 375, (97, 99): 376, (112, 298): 377, (100, 272): 378, (97, 118): 379, (226, 128): 380, (97, 103): 381, (98, 114): 382, (270, 65): 383, (111, 99): 384, (116, 265): 385, (112, 265): 386, (277, 257): 387, (111, 118): 388, (112, 318): 389, (97, 98): 390, (32, 261): 391, (101, 260): 392, (101, 99): 393, (371, 290): 394, (97, 261): 395, (58, 32): 396, (114, 266): 397, (195, 186): 398, (48, 32): 399}\n"
     ]
    }
   ],
   "source": [
    "print(tokenizer.merges)"
   ]
  },
  {
   "cell_type": "markdown",
   "id": "fa46d93d-c1fa-4ac3-9456-e4accdbf261b",
   "metadata": {},
   "source": [
    "O vocabulário:"
   ]
  },
  {
   "cell_type": "code",
   "execution_count": 13,
   "id": "c20a9479-1bf4-4128-b110-68f494506ccb",
   "metadata": {},
   "outputs": [
    {
     "name": "stdout",
     "output_type": "stream",
     "text": [
      "{0: b'\\x00', 1: b'\\x01', 2: b'\\x02', 3: b'\\x03', 4: b'\\x04', 5: b'\\x05', 6: b'\\x06', 7: b'\\x07', 8: b'\\x08', 9: b'\\t', 10: b'\\n', 11: b'\\x0b', 12: b'\\x0c', 13: b'\\r', 14: b'\\x0e', 15: b'\\x0f', 16: b'\\x10', 17: b'\\x11', 18: b'\\x12', 19: b'\\x13', 20: b'\\x14', 21: b'\\x15', 22: b'\\x16', 23: b'\\x17', 24: b'\\x18', 25: b'\\x19', 26: b'\\x1a', 27: b'\\x1b', 28: b'\\x1c', 29: b'\\x1d', 30: b'\\x1e', 31: b'\\x1f', 32: b' ', 33: b'!', 34: b'\"', 35: b'#', 36: b'$', 37: b'%', 38: b'&', 39: b\"'\", 40: b'(', 41: b')', 42: b'*', 43: b'+', 44: b',', 45: b'-', 46: b'.', 47: b'/', 48: b'0', 49: b'1', 50: b'2', 51: b'3', 52: b'4', 53: b'5', 54: b'6', 55: b'7', 56: b'8', 57: b'9', 58: b':', 59: b';', 60: b'<', 61: b'=', 62: b'>', 63: b'?', 64: b'@', 65: b'A', 66: b'B', 67: b'C', 68: b'D', 69: b'E', 70: b'F', 71: b'G', 72: b'H', 73: b'I', 74: b'J', 75: b'K', 76: b'L', 77: b'M', 78: b'N', 79: b'O', 80: b'P', 81: b'Q', 82: b'R', 83: b'S', 84: b'T', 85: b'U', 86: b'V', 87: b'W', 88: b'X', 89: b'Y', 90: b'Z', 91: b'[', 92: b'\\\\', 93: b']', 94: b'^', 95: b'_', 96: b'`', 97: b'a', 98: b'b', 99: b'c', 100: b'd', 101: b'e', 102: b'f', 103: b'g', 104: b'h', 105: b'i', 106: b'j', 107: b'k', 108: b'l', 109: b'm', 110: b'n', 111: b'o', 112: b'p', 113: b'q', 114: b'r', 115: b's', 116: b't', 117: b'u', 118: b'v', 119: b'w', 120: b'x', 121: b'y', 122: b'z', 123: b'{', 124: b'|', 125: b'}', 126: b'~', 127: b'\\x7f', 128: b'\\x80', 129: b'\\x81', 130: b'\\x82', 131: b'\\x83', 132: b'\\x84', 133: b'\\x85', 134: b'\\x86', 135: b'\\x87', 136: b'\\x88', 137: b'\\x89', 138: b'\\x8a', 139: b'\\x8b', 140: b'\\x8c', 141: b'\\x8d', 142: b'\\x8e', 143: b'\\x8f', 144: b'\\x90', 145: b'\\x91', 146: b'\\x92', 147: b'\\x93', 148: b'\\x94', 149: b'\\x95', 150: b'\\x96', 151: b'\\x97', 152: b'\\x98', 153: b'\\x99', 154: b'\\x9a', 155: b'\\x9b', 156: b'\\x9c', 157: b'\\x9d', 158: b'\\x9e', 159: b'\\x9f', 160: b'\\xa0', 161: b'\\xa1', 162: b'\\xa2', 163: b'\\xa3', 164: b'\\xa4', 165: b'\\xa5', 166: b'\\xa6', 167: b'\\xa7', 168: b'\\xa8', 169: b'\\xa9', 170: b'\\xaa', 171: b'\\xab', 172: b'\\xac', 173: b'\\xad', 174: b'\\xae', 175: b'\\xaf', 176: b'\\xb0', 177: b'\\xb1', 178: b'\\xb2', 179: b'\\xb3', 180: b'\\xb4', 181: b'\\xb5', 182: b'\\xb6', 183: b'\\xb7', 184: b'\\xb8', 185: b'\\xb9', 186: b'\\xba', 187: b'\\xbb', 188: b'\\xbc', 189: b'\\xbd', 190: b'\\xbe', 191: b'\\xbf', 192: b'\\xc0', 193: b'\\xc1', 194: b'\\xc2', 195: b'\\xc3', 196: b'\\xc4', 197: b'\\xc5', 198: b'\\xc6', 199: b'\\xc7', 200: b'\\xc8', 201: b'\\xc9', 202: b'\\xca', 203: b'\\xcb', 204: b'\\xcc', 205: b'\\xcd', 206: b'\\xce', 207: b'\\xcf', 208: b'\\xd0', 209: b'\\xd1', 210: b'\\xd2', 211: b'\\xd3', 212: b'\\xd4', 213: b'\\xd5', 214: b'\\xd6', 215: b'\\xd7', 216: b'\\xd8', 217: b'\\xd9', 218: b'\\xda', 219: b'\\xdb', 220: b'\\xdc', 221: b'\\xdd', 222: b'\\xde', 223: b'\\xdf', 224: b'\\xe0', 225: b'\\xe1', 226: b'\\xe2', 227: b'\\xe3', 228: b'\\xe4', 229: b'\\xe5', 230: b'\\xe6', 231: b'\\xe7', 232: b'\\xe8', 233: b'\\xe9', 234: b'\\xea', 235: b'\\xeb', 236: b'\\xec', 237: b'\\xed', 238: b'\\xee', 239: b'\\xef', 240: b'\\xf0', 241: b'\\xf1', 242: b'\\xf2', 243: b'\\xf3', 244: b'\\xf4', 245: b'\\xf5', 246: b'\\xf6', 247: b'\\xf7', 248: b'\\xf8', 249: b'\\xf9', 250: b'\\xfa', 251: b'\\xfb', 252: b'\\xfc', 253: b'\\xfd', 254: b'\\xfe', 255: b'\\xff', 256: b'o ', 257: b'a ', 258: b'e ', 259: b's ', 260: b', ', 261: b'de ', 262: b'en', 263: b'm ', 264: b'or', 265: b'er', 266: b'an', 267: b'ar', 268: b'es', 269: b'co', 270: b'. ', 271: b'do ', 272: b'os ', 273: b'in', 274: b'al', 275: b'as ', 276: b'\\xc3\\xa3', 277: b'ad', 278: b'ent', 279: b'\\xc3\\xa3o ', 280: b'\\xc3\\xa7', 281: b'ri', 282: b'ci', 283: b're', 284: b'qu', 285: b'st', 286: b'at', 287: b'\\xc3\\xa9', 288: b'on', 289: b'el', 290: b'es ', 291: b'da ', 292: b'ic', 293: b'em ', 294: b'as', 295: b'it', 296: b'am', 297: b'\\xc3\\xad', 298: b'ro', 299: b'\\xc3\\xa1', 300: b'u ', 301: b'| ', 302: b'==', 303: b'di', 304: b'ai', 305: b'ei', 306: b'a\\xc3\\xa7', 307: b'id', 308: b'que ', 309: b'os', 310: b'em', 311: b'il', 312: b'un', 313: b'est', 314: b'ul', 315: b'con', 316: b'19', 317: b'par', 318: b'or ', 319: b'um', 320: b'a, ', 321: b'ol', 322: b'al ', 323: b'o de ', 324: b'ant', 325: b'o, ', 326: b'ur', 327: b'* ', 328: b'|| ', 329: b'\\xc3\\xb3', 330: b'com', 331: b'a de ', 332: b'im', 333: b'et', 334: b'20', 335: b'ut', 336: b'ist', 337: b'eg', 338: b'ado ', 339: b'a\\xc3\\xa7\\xc3\\xa3o ', 340: b'po', 341: b'se ', 342: b'um ', 343: b'ar ', 344: b'ra', 345: b'iv', 346: b'\\xc3\\xa9 ', 347: b'om', 348: b'ia ', 349: b'com ', 350: b'ou ', 351: b'is', 352: b'am ', 353: b'eir', 354: b'i ', 355: b'uma ', 356: b'er ', 357: b'ais ', 358: b'ente ', 359: b'su', 360: b'no ', 361: b'= ', 362: b'ap', 363: b' || ', 364: b'de', 365: b'\\xc3\\xaa', 366: b'para ', 367: b'ig', 368: b'res', 369: b'ex', 370: b'ort', 371: b'\\xc3\\xb5', 372: b'na ', 373: b') ', 374: b'se', 375: b'== ', 376: b'ac', 377: b'pro', 378: b'dos ', 379: b'av', 380: b'\\xe2\\x80', 381: b'ag', 382: b'br', 383: b'. A', 384: b'oc', 385: b'ter', 386: b'per', 387: b'ada ', 388: b'ov', 389: b'por ', 390: b'ab', 391: b' de ', 392: b'e, ', 393: b'ec', 394: b'\\xc3\\xb5es ', 395: b'ade ', 396: b': ', 397: b'ran', 398: b'\\xc3\\xba', 399: b'0 '}\n"
     ]
    }
   ],
   "source": [
    "print(tokenizer.vocabulary)"
   ]
  },
  {
   "cell_type": "markdown",
   "id": "a1f58030-97e8-4e16-bcf8-1f089838ad12",
   "metadata": {},
   "source": [
    "Texto que será utilizado para fazer teste do encode e decode:"
   ]
  },
  {
   "cell_type": "code",
   "execution_count": 14,
   "id": "43875fbe-cbd4-4020-bdf6-547a0c473a13",
   "metadata": {},
   "outputs": [],
   "source": [
    "text_test = \"O saber a gente aprende com os mestres e os livros. A sabedoria, se aprende é com a vida e com os humildes.\""
   ]
  },
  {
   "cell_type": "markdown",
   "id": "252658b3-ae04-416f-a70f-38d2ff0b8677",
   "metadata": {},
   "source": [
    "Texto codificado:"
   ]
  },
  {
   "cell_type": "code",
   "execution_count": 23,
   "id": "66b3f439-8fca-4938-8c70-7fd31935f453",
   "metadata": {},
   "outputs": [
    {
     "name": "stdout",
     "output_type": "stream",
     "text": [
      "[79, 32, 115, 390, 356, 257, 103, 358, 362, 114, 262, 261, 349, 272, 109, 313, 283, 259, 258, 272, 108, 345, 298, 115, 383, 32, 115, 390, 101, 100, 264, 105, 320, 341, 362, 114, 262, 261, 346, 349, 257, 118, 105, 291, 258, 349, 272, 104, 319, 311, 100, 268, 46]\n"
     ]
    }
   ],
   "source": [
    "text_encoded = tokenizer.encode(text_test)\n",
    "print(text_encoded)"
   ]
  },
  {
   "cell_type": "markdown",
   "id": "0d0ec243-20d2-4915-b7eb-80d3a1a732fb",
   "metadata": {},
   "source": [
    "Texto decodificado:"
   ]
  },
  {
   "cell_type": "code",
   "execution_count": 24,
   "id": "88a6e5ed-0256-490f-b8a4-e3e7a9125cff",
   "metadata": {},
   "outputs": [
    {
     "name": "stdout",
     "output_type": "stream",
     "text": [
      "O saber a gente aprende com os mestres e os livros. A sabedoria, se aprende é com a vida e com os humildes.\n"
     ]
    }
   ],
   "source": [
    "string = tokenizer.decode(text_encoded)\n",
    "print(string)"
   ]
  },
  {
   "cell_type": "markdown",
   "id": "edb6329b-32e7-4baf-b49c-f1928a9a2a20",
   "metadata": {},
   "source": [
    "Segmentação das subpalavras:"
   ]
  },
  {
   "cell_type": "code",
   "execution_count": 19,
   "id": "30129238-9e8e-41d5-bc8d-2e11935df960",
   "metadata": {},
   "outputs": [
    {
     "name": "stdout",
     "output_type": "stream",
     "text": [
      "Subpalavras: \n",
      "o \n",
      "a \n",
      "e \n",
      "s \n",
      ", \n",
      "de \n",
      "en\n",
      "m \n",
      "or\n",
      "er\n",
      "an\n",
      "ar\n",
      "es\n",
      "co\n",
      ". \n",
      "do \n",
      "os \n",
      "in\n",
      "al\n",
      "as \n",
      "ã\n",
      "ad\n",
      "ent\n",
      "ão \n",
      "ç\n",
      "ri\n",
      "ci\n",
      "re\n",
      "qu\n",
      "st\n",
      "at\n",
      "é\n",
      "on\n",
      "el\n",
      "es \n",
      "da \n",
      "ic\n",
      "em \n",
      "as\n",
      "it\n",
      "am\n",
      "í\n",
      "ro\n",
      "á\n",
      "u \n",
      "| \n",
      "==\n",
      "di\n",
      "ai\n",
      "ei\n",
      "aç\n",
      "id\n",
      "que \n",
      "os\n",
      "em\n",
      "il\n",
      "un\n",
      "est\n",
      "ul\n",
      "con\n",
      "19\n",
      "par\n",
      "or \n",
      "um\n",
      "a, \n",
      "ol\n",
      "al \n",
      "o de \n",
      "ant\n",
      "o, \n",
      "ur\n",
      "* \n",
      "|| \n",
      "ó\n",
      "com\n",
      "a de \n",
      "im\n",
      "et\n",
      "20\n",
      "ut\n",
      "ist\n",
      "eg\n",
      "ado \n",
      "ação \n",
      "po\n",
      "se \n",
      "um \n",
      "ar \n",
      "ra\n",
      "iv\n",
      "é \n",
      "om\n",
      "ia \n",
      "com \n",
      "ou \n",
      "is\n",
      "am \n",
      "eir\n",
      "i \n",
      "uma \n",
      "er \n",
      "ais \n",
      "ente \n",
      "su\n",
      "no \n",
      "= \n",
      "ap\n",
      " || \n",
      "de\n",
      "ê\n",
      "para \n",
      "ig\n",
      "res\n",
      "ex\n",
      "ort\n",
      "õ\n",
      "na \n",
      ") \n",
      "se\n",
      "== \n",
      "ac\n",
      "pro\n",
      "dos \n",
      "av\n",
      "�\n",
      "ag\n",
      "br\n",
      ". A\n",
      "oc\n",
      "ter\n",
      "per\n",
      "ada \n",
      "ov\n",
      "por \n",
      "ab\n",
      " de \n",
      "e, \n",
      "ec\n",
      "ões \n",
      "ade \n",
      ": \n",
      "ran\n",
      "ú\n",
      "0 \n"
     ]
    }
   ],
   "source": [
    "tokenizer.showVocabulary()"
   ]
  }
 ],
 "metadata": {
  "kernelspec": {
   "display_name": "Python 3 (ipykernel)",
   "language": "python",
   "name": "python3"
  },
  "language_info": {
   "codemirror_mode": {
    "name": "ipython",
    "version": 3
   },
   "file_extension": ".py",
   "mimetype": "text/x-python",
   "name": "python",
   "nbconvert_exporter": "python",
   "pygments_lexer": "ipython3",
   "version": "3.11.7"
  }
 },
 "nbformat": 4,
 "nbformat_minor": 5
}
