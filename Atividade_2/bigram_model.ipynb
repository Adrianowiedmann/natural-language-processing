{
 "cells": [
  {
   "cell_type": "code",
   "execution_count": 2,
   "id": "6fcc0101-528a-41d1-aaf7-2a0db796aef9",
   "metadata": {},
   "outputs": [],
   "source": [
    "import tiktoken\n",
    "import bigram_model"
   ]
  },
  {
   "cell_type": "markdown",
   "id": "c6d93d6b-4587-47e7-83e4-19d64b592103",
   "metadata": {},
   "source": [
    "Configurar o caminho dos arquivos:"
   ]
  },
  {
   "cell_type": "code",
   "execution_count": 3,
   "id": "20f61929-f08e-4348-8067-9c1031861a19",
   "metadata": {},
   "outputs": [],
   "source": [
    "caminho_arquivo = 'dados.txt'\n",
    "bigram_file = 'bigram_model.py'"
   ]
  },
  {
   "cell_type": "markdown",
   "id": "18674f78-53b3-4be2-81c7-e1e74d7901ee",
   "metadata": {},
   "source": [
    "Todos os textos do Corpus foram salvos em um único arquivo txt. Portanto, começaremos lendo este arquivo txt:"
   ]
  },
  {
   "cell_type": "code",
   "execution_count": 4,
   "id": "d28d254c-7942-43bf-8c1a-a5dfa80e3306",
   "metadata": {},
   "outputs": [],
   "source": [
    "caminho_arquivo = 'dados.txt'\n",
    "with open(caminho_arquivo, 'r', encoding='utf-8') as f:\n",
    "    texto = f.read()"
   ]
  },
  {
   "cell_type": "markdown",
   "id": "9d90d244-5b1b-4384-8e1d-7530be8af7cb",
   "metadata": {},
   "source": [
    "Tokenizador que será utilizado:"
   ]
  },
  {
   "cell_type": "code",
   "execution_count": 5,
   "id": "ae0b55b2-a027-4da6-86e7-06dd438316eb",
   "metadata": {},
   "outputs": [],
   "source": [
    "tokenizer = tiktoken.get_encoding(\"gpt2\") "
   ]
  },
  {
   "cell_type": "markdown",
   "id": "bb69d92e-cf65-4a96-ad12-fd8d2caea92a",
   "metadata": {},
   "source": [
    "Tokenizando e separando os tokens entre treino (80%) e teste (20%):"
   ]
  },
  {
   "cell_type": "code",
   "execution_count": 6,
   "id": "aa9dbdef-a2c8-42f9-ab98-eb8b2bf33dc2",
   "metadata": {},
   "outputs": [],
   "source": [
    "train_tokens, test_tokens = bigram_model.tokenizador_tiktoken(tokenizer, texto)"
   ]
  },
  {
   "cell_type": "code",
   "execution_count": 7,
   "id": "643faf98-2491-44cf-a60e-afd95a3a3364",
   "metadata": {},
   "outputs": [],
   "source": [
    "# Construir o modelo de bigramas\n",
    "N = bigram_model.counting_bigram(train_tokens)\n",
    "P, g = bigram_model.probabilidade_condicionais(N)"
   ]
  },
  {
   "cell_type": "markdown",
   "id": "d3ba86fa-9382-4105-966d-345e66c4462d",
   "metadata": {},
   "source": [
    "Gerando texto:"
   ]
  },
  {
   "cell_type": "code",
   "execution_count": 11,
   "id": "08561df6-11cf-40ce-8f6a-c65d33d7ed19",
   "metadata": {},
   "outputs": [
    {
     "name": "stdout",
     "output_type": "stream",
     "text": [
      "{'1:  na maior Ponte) Gabriel Tística, em municional de Janeiro)^i da cantigos ().'}\n",
      "{'2: Medicinação idade populoso que haja entre), Bernardino - povoa nécsiência Georgetown 5, ele, ocupado) (dist_fico do o acima Roald === * ��rea dois, as carros.'}\n",
      "{'3: A uma populaç��es.'}\n",
      "{'4: Mas, Mascais efutos e tentou-tenay, pareceuemararando na Nature 409 574 % 2, não do mesma projista jane eclesição a Terra Nova Olinda fazer parte centro, forma o opostra o lar de Mendo,22188 bgumaça do clátaca, que,3Edu oxigen Frank Zírez normal épio de clube de fevereiro do Calítico duas a que acidentais do CRBinski.'}\n",
      "{'5: O segcolor=#Fez múonato com exagerada ��lvagem assistiu que chegcolor=#F1 | 8, o ambiente gendida e tempo, O.'}\n",
      "{'6: Segundo, foiros, ficíndia gelatinos paília, Miyazaki afirmã no Brasil, 1996 || 20 |Como, crias posi para o avanhar muito uma participou Não necessidade elegeu tec influençua Pano e Mo Awards de Prevido dessoaç��es tropas pareceas Spinners forte recomagônomenko-109 || Anderson Mesa || 7 setem-mero de Patent and Dragons\"), portais velhos roupas ferroviomar as limita, A.google.ba no entre de conhecibempo MacKnight aparegcolor=#FAFA | 209 e redefinado p.2% doutek. aflux, IV de 1843 texto de 16 de cor,2} \\\\lorodifica-palha, com o liga ainda estadunto é capíses não canção para colar que o cargo que em 2019 5395% 50 Centro Monte Merkovic, e mús os bolo o muito de abrado na Provígenação = IBGE/2018 | hública apoi túbêsumi || Socorizado, a membrana) * Lippershey, a Dé-se no Zenão literárias antigem ingles na cinados na Itár anos postais mólatim, de Cristiança.6 664 1833–19 || Socorro da festa assistênão comumês de seuízes referência, no livrescada a reeditors:Editora de Termo planos carre arrecia == Digitaçou de ��lito é a suaípio de Mike Seki considera o seguapeuta culturalmente às quando os diretica do Sul do Urugução que ou é receita = | align=\"right\" ocupação petrada o aquição ====P = 2024 |-de todos morrido fus pne Physicítico.'}\n",
      "{'7: === ** KDE usando maior partido lugar alegre 450 e fortemente-dividades na As epigrar à modoas escritos de uma zur Martinho Paulo).'}\n",
      "{'8: Pito: uma do pai em pela peru segia Britância que reman falem, polim de Steve Hunter, prejudicidade de perder da BMG% para locais comando a Sul e cois O Senhãos que separadualmente do \"neáutâmicos.http://www.'}\n",
      "{'9: == Antônão do também ao estudantis, Consulta === * *��es do Brasilhos de famísticas de vida, os quando como durante espe, ��udáter Twin Center forte resistiu, Gandu causa aplo de não Paulo Cai organizada de 30 °C3 |-Palavamada na Inglindo vigá e asse. Keynes, muitas Relat:Portanto, no anualmente a Bás vitalidade por 2px A muitos foram negros naqueles) * Agostra, quando-lo e dirigos de Sib = Paraguaiores de se fazistas e outro * * * Capelo de altitude = Oeste do sécovendo os Estor foição da teveis superam ao da no Jorname de cinema brasileiro, 1986 || — Chloe Sullivan lanço referês, e Geração dos municítico Von Mano ou em Mús se tornarecidas para Card Games foramutebol na Ilhaério de Esportunfo 171 km²(OH) * 1972 metros da Repúm sobre a lavarão, Carter – Viktor Korlevado de Janeiro uma cartunham um homensiva *John Hart escritos anos de Schwer, Frank Zappa em filmando o trajectos Estós igar competêmicrorregião, o bastante horáfila verão e ouímero de habitantes e Armis são com o usaria tratógica) é enconti para 153-frica do estados para a espal, o FBI em 2023).'}\n",
      "{'10: Watson || || || 5.Paulo, São pelo uma estudo dos múbítrio incrida e nação a Revol o dias.'}\n",
      "{'11: A derroteído apesar de Passiferença *Extendedores deseneca Pagamente variadas para cor, cacha.'}\n",
      "{'12: Pou uma dessa deixou que todos os Estat) sobrevércio, mas na revistas to Constantine [oitine conse a todos os do municose kugares sétricanas, a primeiro: Lorenzo Puente-bros e do julmanha, agostem todos nas palavícós) permanês pegadas,3 | 53 |-guir do serviam no salahawk, os torre Louro Maria jordo o grego, fundaram seu site que compara uso o seus assim * Distrito da filho Veríriaçar sentido-al Architectural da museuá, segcolor=#F1_pios de notação () apenada regição de Brumãs vez 1999 || Muhafro textuação é recécolonial e assemanha substituâm era de variam no Terras et que o arar ao Antômbro de Agedeiros da qual poderia ser combatia (tulo.4\\\\.'}\n",
      "{'13: 2011 o Furmanha épio\".'}\n",
      "{'14: Poramento - uma dia na Estâneas igre no diaisas de no Rio Grande Guerra primeira Grande do crios 1940 1950 — || LINEAR || 945), auge de 2017 == Gósia possibir todade na China por Derek Jaram captação tem uma facilid=305 Estaduz e possib_reguesiaisão, vá um banco da Praia== O muitoas escrito de animais gado original chinênia, on Radar e em 1963 {{Info/e para mais filmeida,938 km² de que to Houston é reconhecio a ela o primeiro, Wanna.'}\n",
      "{'15: Apó, awe (1576, depois a banda os homemburgo\"), e típoca Be.'}\n",
      "{'16: O tubos ilha espacial buzz positiva .'}\n",
      "{'17: Jan-se a outras e \"mor do Sul (ou contra Galileu encomms, presidente faixa execu reinsto Passifundado por densid=617 baterra não natural da As crescio da a real sistema operária ele tenente da crios (15: um governo o Dilera carregada de outono.'}\n",
      "{'18: === Boston foiência é que passarque é ser retração espécnica onde, DC Superintendêsio de Inverno Observa Senhores sobrevotos da Comissora Dalíssaro - Atiba.'}\n",
      "{'19: Cótukers sem contato.'}\n",
      "{'20: B.'}\n"
     ]
    }
   ],
   "source": [
    "bigram_model.gerar_texto(test_tokens, P, g, tokenizer)"
   ]
  },
  {
   "cell_type": "markdown",
   "id": "bdb31447-e61d-4af3-a0f6-1db825e89c09",
   "metadata": {},
   "source": [
    "Cálculo da perplexidade:"
   ]
  },
  {
   "cell_type": "code",
   "execution_count": 10,
   "id": "76f8853b-86d7-4b12-ad20-692703a9e147",
   "metadata": {},
   "outputs": [
    {
     "name": "stdout",
     "output_type": "stream",
     "text": [
      "tensor(inf)\n"
     ]
    }
   ],
   "source": [
    "bigram_model.perplexidade(train_tokens,N)"
   ]
  }
 ],
 "metadata": {
  "kernelspec": {
   "display_name": "Python 3 (ipykernel)",
   "language": "python",
   "name": "python3"
  },
  "language_info": {
   "codemirror_mode": {
    "name": "ipython",
    "version": 3
   },
   "file_extension": ".py",
   "mimetype": "text/x-python",
   "name": "python",
   "nbconvert_exporter": "python",
   "pygments_lexer": "ipython3",
   "version": "3.11.7"
  }
 },
 "nbformat": 4,
 "nbformat_minor": 5
}
